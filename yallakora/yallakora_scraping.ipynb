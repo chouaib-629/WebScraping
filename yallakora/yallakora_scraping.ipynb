{
 "cells": [
  {
   "cell_type": "code",
   "execution_count": null,
   "metadata": {},
   "outputs": [],
   "source": [
    "%pip install requests beautifulsoup4 lxml datetime"
   ]
  },
  {
   "cell_type": "code",
   "execution_count": null,
   "metadata": {},
   "outputs": [],
   "source": [
    "import csv\n",
    "import requests\n",
    "from bs4 import BeautifulSoup\n",
    "from datetime import datetime"
   ]
  },
  {
   "cell_type": "code",
   "execution_count": null,
   "metadata": {},
   "outputs": [],
   "source": [
    "date = \"11/30/2024\""
   ]
  },
  {
   "cell_type": "code",
   "execution_count": null,
   "metadata": {},
   "outputs": [],
   "source": [
    "page = requests.get(f\"https://www.yallakora.com/match-center/%D9%85%D8%B1%D9%83%D8%B2-%D8%A7%D9%84%D9%85%D8%A8%D8%A7%D8%B1%D9%8A%D8%A7%D8%AA?date={date}#days\")\n",
    "print(page)"
   ]
  },
  {
   "cell_type": "markdown",
   "metadata": {},
   "source": [
    "format the content to match the html format and make it easier to read"
   ]
  },
  {
   "cell_type": "code",
   "execution_count": null,
   "metadata": {},
   "outputs": [],
   "source": [
    "soup = BeautifulSoup(page.content, \"lxml\")"
   ]
  },
  {
   "cell_type": "markdown",
   "metadata": {},
   "source": [
    "find all the divs that have a class of \"matchCard\""
   ]
  },
  {
   "cell_type": "code",
   "execution_count": null,
   "metadata": {},
   "outputs": [],
   "source": [
    "championships = soup.findAll(\"div\", {\"class\": \"matchCard\"})"
   ]
  },
  {
   "cell_type": "markdown",
   "metadata": {},
   "source": [
    "extract the info that i need from the divs i have got"
   ]
  },
  {
   "cell_type": "code",
   "execution_count": null,
   "metadata": {},
   "outputs": [],
   "source": [
    "matches_details = []\n",
    "for i in range(len(championships)):\n",
    "    championship_title = championships[i].contents[1].find(\"h2\").text.strip()\n",
    "    championships_matches = championships[i].contents[3].find_all(\"div\", class_=\"liItem\")\n",
    "    \n",
    "    for j in range(len(championships_matches)):\n",
    "        teamA = championships_matches[j].find('div', class_='teamA').contents[3].text.strip()\n",
    "        teamB = championships_matches[j].find('div', class_='teamB').contents[3].text.strip()\n",
    "        time = championships_matches[j].find('span', class_='time').text.strip()\n",
    "        scoreA, scoreB = championships_matches[j].find_all('span', class_='score')\n",
    "        score = f'{scoreA.text.strip()} - {scoreB.text.strip()}'\n",
    "        \n",
    "        matches_details.append({\"Champion Ship Title\": championship_title, \"Team A\": teamA, \"Score\": score, \"Team B\": teamB, \"Time\": time})"
   ]
  },
  {
   "cell_type": "code",
   "execution_count": null,
   "metadata": {},
   "outputs": [],
   "source": [
    "# Convert the string to a datetime object\n",
    "date = datetime.strptime(date, \"%m/%d/%Y\")  # Use the correct format for parsing\n",
    "\n",
    "formatted_date = date.strftime(\"%d-%m-%Y\")  # Change to a valid format"
   ]
  },
  {
   "cell_type": "markdown",
   "metadata": {},
   "source": [
    "creating the csv file"
   ]
  },
  {
   "cell_type": "code",
   "execution_count": null,
   "metadata": {},
   "outputs": [],
   "source": [
    "keys = matches_details[0].keys()\n",
    "with open(f\"matches_{formatted_date}.csv\", mode=\"w\", newline='', encoding='utf-8') as file:\n",
    "    dict_writer = csv.DictWriter(file, keys)\n",
    "    dict_writer.writeheader()\n",
    "    dict_writer.writerows(matches_details)\n",
    "    \n",
    "print(\"File created succefully!\")"
   ]
  }
 ],
 "metadata": {
  "kernelspec": {
   "display_name": "Python 3",
   "language": "python",
   "name": "python3"
  },
  "language_info": {
   "codemirror_mode": {
    "name": "ipython",
    "version": 3
   },
   "file_extension": ".py",
   "mimetype": "text/x-python",
   "name": "python",
   "nbconvert_exporter": "python",
   "pygments_lexer": "ipython3",
   "version": "3.13.0"
  }
 },
 "nbformat": 4,
 "nbformat_minor": 2
}
