{
 "cells": [
  {
   "cell_type": "code",
   "execution_count": 1,
   "metadata": {},
   "outputs": [
    {
     "name": "stdout",
     "output_type": "stream",
     "text": [
      "Requirement already satisfied: requests in c:\\users\\thoshiba\\appdata\\local\\programs\\python\\python313\\lib\\site-packages (2.32.3)\n",
      "Requirement already satisfied: beautifulsoup4 in c:\\users\\thoshiba\\appdata\\local\\programs\\python\\python313\\lib\\site-packages (4.12.3)\n",
      "Requirement already satisfied: lxml in c:\\users\\thoshiba\\appdata\\local\\programs\\python\\python313\\lib\\site-packages (5.3.0)\n",
      "Requirement already satisfied: charset-normalizer<4,>=2 in c:\\users\\thoshiba\\appdata\\local\\programs\\python\\python313\\lib\\site-packages (from requests) (3.4.0)\n",
      "Requirement already satisfied: idna<4,>=2.5 in c:\\users\\thoshiba\\appdata\\local\\programs\\python\\python313\\lib\\site-packages (from requests) (3.10)\n",
      "Requirement already satisfied: urllib3<3,>=1.21.1 in c:\\users\\thoshiba\\appdata\\local\\programs\\python\\python313\\lib\\site-packages (from requests) (2.2.3)\n",
      "Requirement already satisfied: certifi>=2017.4.17 in c:\\users\\thoshiba\\appdata\\local\\programs\\python\\python313\\lib\\site-packages (from requests) (2024.8.30)\n",
      "Requirement already satisfied: soupsieve>1.2 in c:\\users\\thoshiba\\appdata\\local\\programs\\python\\python313\\lib\\site-packages (from beautifulsoup4) (2.6)\n",
      "Note: you may need to restart the kernel to use updated packages.\n"
     ]
    }
   ],
   "source": [
    "%pip install requests beautifulsoup4 lxml"
   ]
  },
  {
   "cell_type": "code",
   "execution_count": 10,
   "metadata": {},
   "outputs": [],
   "source": [
    "import requests\n",
    "from bs4 import BeautifulSoup\n",
    "import csv"
   ]
  },
  {
   "cell_type": "code",
   "execution_count": 3,
   "metadata": {},
   "outputs": [],
   "source": [
    "searchedJob = 'python'\n",
    "url = f'https://wuzzuf.net/search/jobs?q={searchedJob}'"
   ]
  },
  {
   "cell_type": "markdown",
   "metadata": {},
   "source": [
    "Send a GET request to the URL"
   ]
  },
  {
   "cell_type": "code",
   "execution_count": 4,
   "metadata": {},
   "outputs": [
    {
     "data": {
      "text/plain": [
       "<Response [200]>"
      ]
     },
     "execution_count": 4,
     "metadata": {},
     "output_type": "execute_result"
    }
   ],
   "source": [
    "page = requests.get(url)\n",
    "page"
   ]
  },
  {
   "cell_type": "markdown",
   "metadata": {},
   "source": [
    "Parse the HTML content of the page with BeautifulSoup"
   ]
  },
  {
   "cell_type": "code",
   "execution_count": 5,
   "metadata": {},
   "outputs": [],
   "source": [
    "soup = BeautifulSoup(page.content, \"lxml\")"
   ]
  },
  {
   "cell_type": "markdown",
   "metadata": {},
   "source": [
    "Find all the job cards on the page"
   ]
  },
  {
   "cell_type": "code",
   "execution_count": 7,
   "metadata": {},
   "outputs": [],
   "source": [
    "jobsCard = soup.find_all(\"div\", class_=\"css-pkv5jc\")"
   ]
  },
  {
   "cell_type": "markdown",
   "metadata": {},
   "source": [
    "Create an empty list to store the jobs"
   ]
  },
  {
   "cell_type": "code",
   "execution_count": 6,
   "metadata": {},
   "outputs": [],
   "source": [
    "jobsList = []"
   ]
  },
  {
   "cell_type": "markdown",
   "metadata": {},
   "source": [
    "Loop through each job card and extract the required information"
   ]
  },
  {
   "cell_type": "code",
   "execution_count": 8,
   "metadata": {},
   "outputs": [],
   "source": [
    "for job in jobsCard:\n",
    "    jobTitle = job.find(\"a\", class_=\"css-o171kl\").text.strip()\n",
    "    companyName = job.find(\"a\", class_=\"css-17s97q8\").text.strip()\n",
    "    companyLocation = job.find(\"span\", class_=\"css-5wys0k\").text.strip()\n",
    "    jobPosted = job.find(\"div\", class_=\"css-4c4ojb\").text.strip() if job.find(\"div\", class_=\"css-4c4ojb\") else job.find(\"div\", class_=\"css-do6t5g\").text.strip()\n",
    "    jobTime = job.find(\"span\", class_=\"css-1ve4b75\").text.strip()\n",
    "    jobPlace = job.find(\"span\", class_=\"css-o1vzmt\").text.strip()\n",
    "    jobExperience = job.find(\"div\", class_=\"css-y4udm8\").contents[1].find(\"span\").text.strip()\n",
    "    jobDescription = []\n",
    "    for a in job.find(\"div\", class_=\"css-y4udm8\").contents[1].find_all(\"a\"):\n",
    "        jobDescription.append(a.text.strip())\n",
    "    \n",
    "    jobsList.append({\"Job Title\": jobTitle, \"Company Name\": companyName, \"Company Location\": companyLocation, \"Job Posted\": jobPosted, \"Job Time\": jobTime, \"Job Place\": jobPlace, \"Job Experience\": jobExperience, \"Job Description\": jobDescription})"
   ]
  },
  {
   "cell_type": "markdown",
   "metadata": {},
   "source": [
    "Write the matches details to a CSV file"
   ]
  },
  {
   "cell_type": "code",
   "execution_count": 11,
   "metadata": {},
   "outputs": [
    {
     "name": "stdout",
     "output_type": "stream",
     "text": [
      "CSV File Created Succesfully.\n"
     ]
    }
   ],
   "source": [
    "with open(f\"jobsList_{searchedJob}.csv\", \"w\", newline=\"\", encoding=\"utf-8\") as csvfile:\n",
    "    keys = jobsList[0].keys() # Use the keys from the first dictionary in the list\n",
    "    writer = csv.DictWriter(csvfile, fieldnames=keys)\n",
    "    writer.writeheader()\n",
    "    writer.writerows(jobsList)\n",
    "\n",
    "print(\"CSV File Created Succesfully.\")"
   ]
  }
 ],
 "metadata": {
  "kernelspec": {
   "display_name": "Python 3",
   "language": "python",
   "name": "python3"
  },
  "language_info": {
   "codemirror_mode": {
    "name": "ipython",
    "version": 3
   },
   "file_extension": ".py",
   "mimetype": "text/x-python",
   "name": "python",
   "nbconvert_exporter": "python",
   "pygments_lexer": "ipython3",
   "version": "3.13.0"
  }
 },
 "nbformat": 4,
 "nbformat_minor": 2
}
